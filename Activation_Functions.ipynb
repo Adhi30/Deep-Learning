{
  "nbformat": 4,
  "nbformat_minor": 0,
  "metadata": {
    "colab": {
      "provenance": []
    },
    "kernelspec": {
      "name": "python3",
      "display_name": "Python 3"
    },
    "language_info": {
      "name": "python"
    }
  },
  "cells": [
    {
      "cell_type": "code",
      "execution_count": 1,
      "metadata": {
        "id": "TDzfVyXPyBD-"
      },
      "outputs": [],
      "source": [
        "import math"
      ]
    },
    {
      "cell_type": "markdown",
      "source": [
        "**Sigmoid Activation Function :**\n",
        "\n",
        "\n",
        "$$\n",
        "\\sigma(x) = \\frac{1}{1 + e^{-x}}\n",
        "$$"
      ],
      "metadata": {
        "id": "09Yp8yphyJ9P"
      }
    },
    {
      "cell_type": "code",
      "source": [
        "def sigmoid(x):\n",
        "  return 1/ (1 + math.exp(-x))"
      ],
      "metadata": {
        "id": "8He46X5NyIAp"
      },
      "execution_count": 2,
      "outputs": []
    },
    {
      "cell_type": "code",
      "source": [
        "sigmoid_op = sigmoid(3)\n",
        "print(sigmoid_op)"
      ],
      "metadata": {
        "colab": {
          "base_uri": "https://localhost:8080/"
        },
        "id": "YlHrBhYnyne_",
        "outputId": "cf09bcee-6614-4f1d-aeff-42903265486d"
      },
      "execution_count": 3,
      "outputs": [
        {
          "output_type": "stream",
          "name": "stdout",
          "text": [
            "0.9525741268224334\n"
          ]
        }
      ]
    },
    {
      "cell_type": "markdown",
      "source": [
        "**ReLu Activation Function**\n",
        "\n",
        "\n",
        "$$\n",
        "\\text{ReLU}(x) = \\max(0, x)\n",
        "$$"
      ],
      "metadata": {
        "id": "nozDZcyOyw2c"
      }
    },
    {
      "cell_type": "code",
      "source": [
        "def relu(x):\n",
        "  return x if x>0 else 0"
      ],
      "metadata": {
        "id": "_nSGQ1uRytP8"
      },
      "execution_count": 4,
      "outputs": []
    },
    {
      "cell_type": "code",
      "source": [
        "relu_op = relu(-5)\n",
        "print(relu_op)"
      ],
      "metadata": {
        "colab": {
          "base_uri": "https://localhost:8080/"
        },
        "id": "5AXb0V0zzF47",
        "outputId": "a5537e8b-9b4a-4191-b482-3bec448da779"
      },
      "execution_count": 5,
      "outputs": [
        {
          "output_type": "stream",
          "name": "stdout",
          "text": [
            "0\n"
          ]
        }
      ]
    },
    {
      "cell_type": "markdown",
      "source": [
        "**tanH Activation Function :**\n",
        "\n",
        "$$\n",
        "\\tanh(x) = \\frac{e^{x} - e^{-x}}{e^{x} + e^{-x}}\n",
        "$$"
      ],
      "metadata": {
        "id": "G_AzzOPyzNDf"
      }
    },
    {
      "cell_type": "code",
      "source": [
        "def tanh(x):\n",
        "  return(math.exp(x) - math.exp(-x)) / (math.exp(x) + math.exp(-x))"
      ],
      "metadata": {
        "id": "H90MrxhlzLWS"
      },
      "execution_count": 6,
      "outputs": []
    },
    {
      "cell_type": "code",
      "source": [
        "tanh_op = tanh(100)\n",
        "print(tanh_op)"
      ],
      "metadata": {
        "colab": {
          "base_uri": "https://localhost:8080/"
        },
        "id": "HLbgw9Qpzvru",
        "outputId": "761279c6-aff4-466e-e2b1-a15094fa9390"
      },
      "execution_count": 7,
      "outputs": [
        {
          "output_type": "stream",
          "name": "stdout",
          "text": [
            "1.0\n"
          ]
        }
      ]
    },
    {
      "cell_type": "markdown",
      "source": [
        "**Softmax Activation Function :**\n",
        "\n",
        "\n",
        "$$\n",
        "\\text{softmax}(x)_i = \\frac{e^{x_i}}{\\sum_{j=1}^{n} e^{x_j}} \\quad \\text{for } i = 1, \\ldots, n\n",
        "$$"
      ],
      "metadata": {
        "id": "RDoN-QNXz3DR"
      }
    },
    {
      "cell_type": "code",
      "source": [
        "def softmax(x):\n",
        "  # x ---> list\n",
        "  exp_x = [math.exp(i) for i in x]\n",
        "  sum_exp_x = sum(exp_x)\n",
        "  #compute softmax for each each element in x\n",
        "  return [j / sum_exp_x for j in exp_x]\n"
      ],
      "metadata": {
        "id": "TIbq1B6Sz1bd"
      },
      "execution_count": 8,
      "outputs": []
    },
    {
      "cell_type": "code",
      "source": [
        "softmax_op = softmax([2, 1, 1])\n",
        "print(softmax_op)"
      ],
      "metadata": {
        "colab": {
          "base_uri": "https://localhost:8080/"
        },
        "id": "U1LdqpK60a-2",
        "outputId": "5f152d14-ef86-4ba6-e138-fd7fcba7acc0"
      },
      "execution_count": 9,
      "outputs": [
        {
          "output_type": "stream",
          "name": "stdout",
          "text": [
            "[0.5761168847658291, 0.21194155761708544, 0.21194155761708544]\n"
          ]
        }
      ]
    },
    {
      "cell_type": "code",
      "source": [],
      "metadata": {
        "id": "a8-F9b2M0hR9"
      },
      "execution_count": null,
      "outputs": []
    }
  ]
}